{
 "cells": [
  {
   "cell_type": "markdown",
   "metadata": {},
   "source": [
    "# Assignment 1\n"
   ]
  },
  {
   "cell_type": "code",
   "execution_count": null,
   "metadata": {},
   "outputs": [],
   "source": [
    "import numpy as np\n",
    "np.random.seed(13) #TODO Check if this is used for sgd\n",
    "import keras.backend as K\n",
    "from keras.models import Sequential\n",
    "from keras.layers import Dense, Embedding, Reshape, Lambda\n",
    "from keras.utils import np_utils\n",
    "from keras.utils.data_utils import get_file\n",
    "from keras.preprocessing.text import Tokenizer\n",
    "from keras.utils.vis_utils import model_to_dot\n",
    "from keras.preprocessing import sequence\n",
    "from gensim.models import KeyedVectors\n",
    "from sklearn.manifold import TSNE\n",
    "from sklearn.metrics.pairwise import cosine_similarity\n",
    "from sklearn.neighbors import NearestNeighbors as nn\n",
    "from matplotlib import pylab\n",
    "from __future__ import division"
   ]
  },
  {
   "cell_type": "code",
   "execution_count": 2,
   "metadata": {},
   "outputs": [],
   "source": [
    "# DO NOT Modify the lines in this cell\n",
    "path = 'alice.txt'\n",
    "corpus = open(path).readlines()[0:700]\n",
    "corpus = [sentence for sentence in corpus if sentence.count(\" \") >= 2]\n",
    "\n",
    "tokenizer = Tokenizer(filters='!\"#$%&()*+,-./:;<=>?@[\\\\]^_`{|}~\\t\\n'+\"'\")\n",
    "tokenizer.fit_on_texts(corpus)\n",
    "corpus = tokenizer.texts_to_sequences(corpus)\n",
    "nb_samples = sum(len(s) for s in corpus)\n",
    "V = len(tokenizer.word_index) + 1\n",
    "\n",
    "# Is this something they need to change?\n",
    "dim = 100\n",
    "window_size = 2 #use this window size for Skipgram, CBOW, and the model with the additional hidden layer\n",
    "window_size_corpus = 4 #use this window size for the co-occurrence matrix"
   ]
  },
  {
   "cell_type": "markdown",
   "metadata": {},
   "source": [
    "## Question 1\n",
    "\n",
    "### Co-occurrence Matrix\n",
    "Use the provided code to load the \"Alice in Wonderland\" text document. \n",
    "1. Implement the word-word co-occurrence matrix for “Alice in Wonderland”\n",
    "2. Normalize the words such that every value lies within a range of 0 and 1\n",
    "3. Compute the cosine distance between the given words:\n",
    "    - Alice \n",
    "    - Dinah\n",
    "    - Rabbit\n",
    "4. List the 5 closest words to 'Alice'. Discuss the results.\n",
    "5. Discuss what the main drawbacks are of a term-term co-occurence matrix solutions?\n"
   ]
  },
  {
   "cell_type": "code",
   "execution_count": null,
   "metadata": {},
   "outputs": [],
   "source": [
    "#create co-occurrence matrix\n",
    "shape = (V, V)\n",
    "matrix = np.zeros(shape)\n",
    "np.fill_diagonal(matrix, 0)\n",
    "for sentence in corpus:\n",
    "    for i in range(0, len(sentence)):\n",
    "        coword = sentence[i+1:i+window_size_corpus+1]\n",
    "        for j in coword:\n",
    "            matrix[sentence[i], j] = matrix[sentence[i], j] + 1\n",
    "matrix_trans = matrix.transpose()\n",
    "co_occurence_matrix = np.add(matrix, matrix_trans)"
   ]
  },
  {
   "cell_type": "code",
   "execution_count": null,
   "metadata": {},
   "outputs": [],
   "source": [
    "#normalize the words by dividing the co-occurence frequency with the total frequency of one word\n",
    "for i in range(1, V):\n",
    "    total_tf = np.sum(co_occurence_matrix[:,i])\n",
    "    if total_tf > 0: #some words do not co-occur with other words, as they are the only words in the sentence (for instance 797)\n",
    "        for j in range(1,V):\n",
    "            co_occurence_matrix[j,i] = co_occurence_matrix[j,i]/total_tf\n",
    "\n",
    "#find cosine similarity to Alice, Dinah and Rabbit\n",
    "alice_index = tokenizer.word_index['alice']\n",
    "dinah_index = tokenizer.word_index['dinah']\n",
    "rabit_index = tokenizer.word_index['rabbit']\n",
    "#create similarity matrix\n",
    "sim = cosine_similarity(co_occurence_matrix)\n",
    "sim_alice_dinah = sim[alice_index, dinah_index]\n",
    "sim_alice_rabit = sim[alice_index, rabit_index]\n",
    "sim_dinah_rabit = sim[dinah_index, rabit_index]\n",
    "print(\"Cosine similarity Alice - Dinah: %.4f\" %sim_alice_dinah)\n",
    "print(\"Cosine similarity Alice - Rabbit: %.4f\" %sim_alice_rabit)\n",
    "print(\"Cosine similarity Dinah - Rabbit: %.4f\" %sim_dinah_rabit)"
   ]
  },
  {
   "cell_type": "code",
   "execution_count": null,
   "metadata": {},
   "outputs": [],
   "source": [
    "#find the closest words to Alice\n",
    "nbrs = nn(n_neighbors=6, algorithm='auto').fit(co_occurence_matrix)\n",
    "distances, indices = nbrs.kneighbors(co_occurence_matrix)\n",
    "\n",
    "print(indices[alice_index])\n",
    "for word, index in tokenizer.word_index.items():    # for name, age in list.items():  (for Python 3.x)\n",
    "    if index in indices[alice_index]:\n",
    "        print(word)"
   ]
  },
  {
   "cell_type": "code",
   "execution_count": null,
   "metadata": {},
   "outputs": [],
   "source": [
    "print('The length of the co-occurence matrix is {}'.format(len(co_occurence_matrix)))"
   ]
  },
  {
   "cell_type": "markdown",
   "metadata": {},
   "source": [
    "Trivially, the closest word to Alice is Alice. However, all other works are not in line with what one would expect. Having read the first lines of Alice in Wonderland, it is for example not clear what the connection is between 'Alice' and 'foot'. A possible explanation is that the dimensionality of the data is high, as the co-occurency of two terms is compared with all (1182-2=)1180. Because of this high dimensionality, the distance difference between the nearest and farthest neighbor is low. To illustrate this, we computed the 100 nearest neighbours to 'Alice' below and compared the longest of these 100 distances with the smallest distance bigger than zero. As can be seen in the output of the code below, the nearest neighbour is only 1.9% closer in terms of distance than the 99th nearest neighbour."
   ]
  },
  {
   "cell_type": "code",
   "execution_count": null,
   "metadata": {},
   "outputs": [],
   "source": [
    "nbrs_100 = nn(n_neighbors=1000, algorithm='auto').fit(co_occurence_matrix)\n",
    "distances_1000, indices_1000 = nbrs.kneighbors(co_occurence_matrix)\n",
    "\n",
    "print(distances[alice_index]/np.average(distances_1000[alice_index]))\n",
    "print(distances[alice_index]/np.max(distances_1000[alice_index]))\n",
    "np.max(np.max(distances_1000[alice_index])/distances[alice_index][1:])"
   ]
  },
  {
   "cell_type": "code",
   "execution_count": null,
   "metadata": {},
   "outputs": [],
   "source": [
    "#percentage of cells with zeros\n",
    "print('The ratio of cells with zeros is {:.4f}'.format\n",
    "      (np.where(co_occurence_matrix==0)[0].size/co_occurence_matrix.size))"
   ]
  },
  {
   "cell_type": "markdown",
   "metadata": {},
   "source": [
    "Discussion of the drawback of a term-term co-occurence matrix:\n",
    "- A co-occurence matrix is very sparse. In this data set, 98,16% of the cells in the word-word co-occurence matrix are zeros. \n",
    "- The matrix tends to be very large. For the first 700 lines of the book Alice in Wonderland, we already need a matrix of size 1183x1183. \n",
    "- The frequency of occurence can be skewed and non-discriminative. Words like 'the', 'and' and 'to' are not very discriminative, but the impact on the calculation of word similarity of these words is equally big as the impact of more discriminative words. However, this is not necessary a drawback of the use of the word-word co-occurence matrix, as one can adjust for this by using weighting terms."
   ]
  },
  {
   "cell_type": "code",
   "execution_count": null,
   "metadata": {},
   "outputs": [],
   "source": [
    "#Save your all the vector representations of your word embeddings in this way\n",
    "#Change when necessary the sizes of the vocabulary/embedding dimension\n",
    "\n",
    "f = open('vectors_co_occurrence.txt',\"w\")\n",
    "f.write(\" \".join([str(V-1),str(V-1)]))\n",
    "f.write(\"\\n\")\n",
    "\n",
    "#vectors = your word co-occurrence matrix\n",
    "vectors = [co_occurence_matrix]\n",
    "for word, i in tokenizer.word_index.items():    \n",
    "    f.write(word)\n",
    "    f.write(\" \")\n",
    "    f.write(\" \".join(map(str, list(vectors[i,:]))))\n",
    "    #Dit werkt wel, maar dan krijg je later weer problemen\n",
    "#     f.write(\" \".join(map(str, list(vectors[0][i,:]))))\n",
    "    f.write(\"\\n\")\n",
    "f.close()\n",
    "\n",
    "#reopen your file as follows\n",
    "co_occurrence = KeyedVectors.load_word2vec_format('./vectors_co_occurrence.txt', binary=False)"
   ]
  },
  {
   "cell_type": "markdown",
   "metadata": {},
   "source": [
    "## Question 2\n",
    "\n",
    "### Word embeddings\n",
    "Build embeddings with a keras implementation where the embedding vector is of length 50, 150 and 300. Use the Alice in Wonderland text book for training.\n",
    "1. Using the CBOW model\n",
    "2. Using Skipgram model\n",
    "3. Add extra hidden dense layer to CBow and Skipgram implementations. Choose an activation function for that layer and justify your answer.\n",
    "4. Analyze the four different word embeddings\n",
    "    - Implement your own function to perform the analogy task with. Do not use existing libraries for this task such as Gensim. Your function should be able to answer whether an anaology as in the example given in the pdf-file is true.\n",
    "    - Compare the performance on the analogy task between the word embeddings that you have trained in 2.1, 2.2 and 2.3.  \n",
    "    - Visualize your results and interpret your results\n",
    "5. Use the word co-occurence matrix from Question 1. Compare the performance on the analogy task with the performance of your trained word embeddings.  \n",
    "6. Discuss:\n",
    "    - What are the main advantages of CBOW and Skipgram?\n",
    "    - What is the advantage of negative sampling?\n",
    "    - What are the main drawbacks of CBOW and Skipgram?\n",
    "7. Load pre-trained embeddings on large corpuses (see the pdf file). You only have to consider the word embeddings with an embedding size of 300\n",
    "    - Compare performance on the analogy task with your own trained embeddings from \"Alice in Wonderland\". You can limit yourself to the vocabulary of Alice in Wonderland. Visualize the pre-trained word embeddings and compare these with the results of your own trained word embeddings. \n"
   ]
  },
  {
   "cell_type": "code",
   "execution_count": 3,
   "metadata": {},
   "outputs": [],
   "source": [
    "#prepare data for cbow|\n",
    "def gen(corpus, window_size, V):\n",
    "    maxlen = window_size * 2\n",
    "    for sentence in corpus:\n",
    "        L = len(sentence)\n",
    "        for index, word in enumerate(sentence):\n",
    "            context = []\n",
    "            labels = []\n",
    "            s = index - window_size\n",
    "            e = index + window_size + 1\n",
    "            \n",
    "            #Add context word (cat is hungry) if  index is 1 then context is cat and hungry\n",
    "            context.append([sentence[i] for i in range(s, e) if 0 <= i < L and i != index])\n",
    "            labels.append(word)\n",
    "            \n",
    "            x = sequence.pad_sequences(context, maxlen=maxlen)\n",
    "            y = np_utils.to_categorical(labels, V)\n",
    "            #return generator.\n",
    "            yield (x, y)"
   ]
  },
  {
   "cell_type": "code",
   "execution_count": 4,
   "metadata": {},
   "outputs": [
    {
     "name": "stdout",
     "output_type": "stream",
     "text": [
      "0 41686.85704231262\n",
      "1 39117.07442212105\n",
      "2 38909.004811286926\n",
      "3 38815.759677529335\n",
      "4 38761.797519654036\n",
      "5 38724.254935741425\n",
      "6 38676.11721082032\n",
      "7 38627.97741906345\n",
      "8 38588.04490805417\n",
      "9 38562.02371109277\n"
     ]
    }
   ],
   "source": [
    "dim = 50\n",
    "cbow_model_50 = Sequential()\n",
    "cbow_model_50.add(Embedding(input_dim=V, output_dim=dim, input_length=window_size*2))\n",
    "cbow_model_50.add(Lambda(lambda x: K.mean(x, axis=1), output_shape=(dim,)))\n",
    "cbow_model_50.add(Dense(V, activation='softmax'))\n",
    "#Compile\n",
    "cbow_model_50.compile(loss='categorical_crossentropy', optimizer='adadelta')\n",
    "#Train CBOW Model\n",
    "for ite in range(10):\n",
    "    loss = 0.\n",
    "    for x, y in gen(corpus, window_size, V):\n",
    "        loss += cbow_model_50.train_on_batch(x, y)\n",
    "    print(ite, loss)"
   ]
  },
  {
   "cell_type": "code",
   "execution_count": 5,
   "metadata": {},
   "outputs": [
    {
     "name": "stdout",
     "output_type": "stream",
     "text": [
      "0 41624.23430228233\n",
      "1 38758.4873585701\n",
      "2 38354.18559038639\n",
      "3 38128.79920192063\n",
      "4 37915.916541829705\n",
      "5 37717.64857311547\n",
      "6 37544.240869909525\n",
      "7 37407.07984884456\n",
      "8 37298.178133709356\n",
      "9 37203.42670722678\n"
     ]
    }
   ],
   "source": [
    "dim = 150\n",
    "cbow_model_150 = Sequential()\n",
    "cbow_model_150.add(Embedding(input_dim=V, output_dim=dim, input_length=window_size*2))\n",
    "cbow_model_150.add(Lambda(lambda x: K.mean(x, axis=1), output_shape=(dim,)))\n",
    "cbow_model_150.add(Dense(V, activation='softmax'))\n",
    "#Compile\n",
    "cbow_model_150.compile(loss='categorical_crossentropy', optimizer='adadelta')\n",
    "#Train CBOW Model\n",
    "for ite in range(10):\n",
    "    loss = 0.\n",
    "    for x, y in gen(corpus, window_size, V):\n",
    "        loss += cbow_model_150.train_on_batch(x, y)\n",
    "    print(ite, loss)"
   ]
  },
  {
   "cell_type": "code",
   "execution_count": null,
   "metadata": {},
   "outputs": [],
   "source": [
    "dim = 300\n",
    "cbow_model_300 = Sequential()\n",
    "cbow_model_300.add(Embedding(input_dim=V, output_dim=dim, input_length=window_size*2))\n",
    "cbow_model_300.add(Lambda(lambda x: K.mean(x, axis=1), output_shape=(dim,)))\n",
    "cbow_model_300.add(Dense(V, activation='softmax'))\n",
    "#Compile\n",
    "cbow_model_300.compile(loss='categorical_crossentropy', optimizer='adadelta')\n",
    "#Train CBOW Model\n",
    "for ite in range(10):\n",
    "    loss = 0.\n",
    "    for x, y in gen(corpus, window_size, V):\n",
    "        loss += cbow_model_300.train_on_batch(x, y)\n",
    "    print(ite, loss)"
   ]
  },
  {
   "cell_type": "code",
   "execution_count": null,
   "metadata": {},
   "outputs": [],
   "source": [
    "#Write results\n",
    "f = open('vectors.txt' ,'w')\n",
    "f.write('{} {}\\n'.format(V-1, dim))\n",
    "#Write results\n",
    "cbow_model.get_weights()[0]\n",
    "for word, i in tokenizer.word_index.items():\n",
    "    str_vec = ' '.join(map(str, list(vectors[i, :])))\n",
    "    f.write('{} {}\\n'.format(word, str_vec))\n",
    "f.close()"
   ]
  },
  {
   "cell_type": "code",
   "execution_count": 6,
   "metadata": {},
   "outputs": [],
   "source": [
    "import operator\n",
    "def anology_m(model, word_one, word_two, word_three):\n",
    "    keyvector = model.get_weights()[0]\n",
    "    index_one = tokenizer.word_index[word_one]\n",
    "    index_two = tokenizer.word_index[word_two]\n",
    "    index_three = tokenizer.word_index[word_three]\n",
    "    result = keyvector[index_two] - keyvector[index_one] + keyvector[index_three]\n",
    "    \n",
    "    closest_words = {}\n",
    "    closest_word = \"\"\n",
    "    min_score = -1\n",
    "    for word, index in tokenizer.word_index.items():\n",
    "        if(index not in [index_one, index_two, index_three]):\n",
    "            sim_score = cosine_similarity([result, keyvector[index]])[0][1]\n",
    "            closest_words[word] = sim_score\n",
    "            if(sim_score > min_score):\n",
    "                min_score = sim_score\n",
    "                closest_word = word\n",
    "    sorted_x = sorted(closest_words.items(), key=operator.itemgetter(1), reverse=True)\n",
    "    return sorted_x[:10]"
   ]
  },
  {
   "cell_type": "code",
   "execution_count": 17,
   "metadata": {},
   "outputs": [],
   "source": [
    "#Happy not in dataset hence we catch keyerror\n",
    "def test_acc(model):\n",
    "    hit_1 = 0\n",
    "    hit_5 = 0\n",
    "    hit_10 = 0\n",
    "    file = open('analogy_alice.txt')\n",
    "    lines = file.readlines()\n",
    "    for line in lines:\n",
    "        try:\n",
    "            tokens = line.strip().split(' ')\n",
    "            result = anology_m(model, tokens[0], tokens[1], tokens[2])\n",
    "            if(tokens[3] == result[0]):\n",
    "                hit_1 += 1\n",
    "            elif(tokens[3] in result[:5]):\n",
    "                hit_5 += 1\n",
    "            elif(tokens[3] in result):\n",
    "                hit_10 += 1\n",
    "        except KeyError:\n",
    "            pass\n",
    "    return hit_1, hit_5, hit_10"
   ]
  },
  {
   "cell_type": "code",
   "execution_count": 16,
   "metadata": {},
   "outputs": [
    {
     "name": "stdout",
     "output_type": "stream",
     "text": [
      "[('among', 0.81847054), ('once', 0.81836534), ('far', 0.8182786), ('trotting', 0.8157228), ('several', 0.8156117), ('catching', 0.807878), ('ma', 0.8023381), ('how', 0.80214024), ('half', 0.8021327), ('their', 0.7994348)]\n",
      "[('his', 0.8714411), ('william', 0.85736096), ('too', 0.8495076), ('kid', 0.846555), ('their', 0.84449244), ('times', 0.84395695), ('this', 0.8395642), ('very', 0.8388386), ('an', 0.8369546), ('its', 0.8328292)]\n",
      "[('ready', 0.5587122), ('bathing', 0.5165816), ('severely', 0.467151), ('there', 0.45625997), ('it', 0.45406643), ('surprised', 0.45232335), ('went', 0.44879824), ('couldn', 0.44581386), ('printed', 0.44305977), ('just', 0.44251865)]\n",
      "[('it', 0.84654427), ('alice', 0.7051682), ('idea', 0.61104673), ('anxiously', 0.568317), ('you', 0.56314445), ('went', 0.5527689), ('as', 0.53755677), ('them', 0.519373), ('deeply', 0.50861925), ('glass', 0.50669694)]\n",
      "[('an', 0.8159269), ('your', 0.8151512), ('times', 0.80560535), ('ever', 0.8039189), ('beg', 0.7923994), ('two', 0.79125667), ('william', 0.7904428), ('my', 0.7896737), ('their', 0.782549), ('bats', 0.78106326)]\n",
      "[('their', 0.925178), ('people', 0.92396754), ('times', 0.9202509), ('doesn', 0.9179103), ('are', 0.9173402), ('tone', 0.91373247), ('among', 0.9105126), ('talking', 0.9103976), ('than', 0.9090151), ('those', 0.9076525)]\n",
      "[('when', 0.6366899), ('with', 0.61423695), ('name', 0.61121964), ('mouse', 0.6001849), ('while', 0.59257257), ('rabbit', 0.59227484), ('by', 0.59088564), ('did', 0.5904928), ('dodo', 0.58599645), ('through', 0.5842071)]\n",
      "[('candle', 0.7122918), ('eat', 0.6981723), ('right', 0.69631165), ('oh', 0.6940114), ('multiplication', 0.6900934), ('w', 0.6803499), ('rate', 0.6803185), ('heads', 0.67216647), ('who', 0.67006266), ('either', 0.6674648)]\n",
      "[('can', 0.5131467), ('suppose', 0.47841313), ('eat', 0.46081388), ('dropped', 0.4512169), ('know', 0.45056584), ('sulky', 0.42734188), ('pale', 0.41820696), ('conquest', 0.41794667), ('nonsense', 0.4171959), ('natural', 0.41715482)]\n",
      "[('set', 0.64093333), ('window', 0.6157434), ('listen', 0.5798525), ('world', 0.57458496), ('wink', 0.5521753), ('locked', 0.54995286), ('jumped', 0.5483759), ('patted', 0.53609115), ('tried', 0.5353764), ('shore', 0.5197836)]\n",
      "[('its', 0.8898961), ('very', 0.8751085), ('his', 0.8643849), ('my', 0.8609557), ('their', 0.85789657), ('kid', 0.848596), ('william', 0.8452691), ('this', 0.84458447), ('began', 0.84117717), ('two', 0.8411452)]\n",
      "[('across', 0.50949115), ('insult', 0.50040215), ('again', 0.49983704), ('s', 0.47550055), ('others', 0.46886826), ('was', 0.46513778), ('heard', 0.46102843), ('nonsense', 0.45726013), ('gravely', 0.45211917), ('fetch', 0.45200205)]\n",
      "[('sure', 0.8331137), ('mabel', 0.7580358), ('if', 0.74699587), ('wonder', 0.74133396), ('shall', 0.7307319), ('am', 0.730208), ('now', 0.7292606), ('ve', 0.7243188), ('can', 0.72208095), ('m', 0.70651984)]\n",
      "[('complained', 0.7101992), ('girl', 0.6982013), ('locks', 0.69593304), ('came', 0.68809915), ('hole', 0.68717486), ('improve', 0.67884463), ('however', 0.67622113), ('bad', 0.674687), ('purring', 0.6745637), ('our', 0.6727596)]\n",
      "[('hair', 0.54936767), ('no', 0.51923037), ('any', 0.5192171), ('be', 0.5013567), ('going', 0.4981165), ('messages', 0.49248165), ('speak', 0.49030262), ('ask', 0.48894256), ('another', 0.4888629), ('tears', 0.48729318)]\n",
      "[('neck', 0.447596), ('legs', 0.41851157), ('despair', 0.4014958), ('sorrowful', 0.36982897), ('meeting', 0.3627657), ('wink', 0.3491608), ('sides', 0.3487778), ('walk', 0.33944958), ('ring', 0.335746), ('passion', 0.33456507)]\n",
      "[('buttered', 0.50243425), ('time', 0.50183845), ('herself', 0.48655903), ('trembling', 0.45414937), ('speak', 0.43155497), ('had', 0.40811327), ('goes', 0.3892244), ('belong', 0.3730523), ('swam', 0.36814845), ('shook', 0.35687602)]\n",
      "[('seemed', 0.64236593), ('seem', 0.6185493), ('make', 0.6089245), ('come', 0.60511583), ('help', 0.5965585), ('under', 0.5944093), ('get', 0.59264576), ('is', 0.5731692), ('certain', 0.5707408), ('about', 0.56948745)]\n",
      "[('seen', 0.7310372), ('shrinking', 0.6847629), ('have', 0.67434126), ('wet', 0.6712007), ('two', 0.6701358), ('william', 0.6672064), ('very', 0.66332734), ('make', 0.6614467), ('really', 0.65926373), ('re', 0.6591302)]\n",
      "[('happen', 0.5010877), ('certain', 0.4572299), ('usurpation', 0.44831052), ('see', 0.4469402), ('welcome', 0.4279467), ('declared', 0.42431742), ('certainly', 0.41070554), ('feet', 0.4099947), ('mind', 0.40984282), ('remarking', 0.40763032)]\n",
      "[('fact', 0.8031434), ('jumped', 0.74082375), ('coming', 0.7342695), ('sorts', 0.7174631), ('set', 0.71084315), ('speaking', 0.70537835), ('patted', 0.68250155), ('window', 0.68219364), ('melancholy', 0.67914355), ('belongs', 0.66592425)]\n",
      "[('among', 0.6299184), ('him', 0.6275651), ('story', 0.6268874), ('directions', 0.6089869), ('their', 0.6072148), ('magpie', 0.6052909), ('whether', 0.60223484), ('other', 0.59877914), ('things', 0.59828717), ('by', 0.59269017)]\n",
      "[('can', 0.76999617), ('sure', 0.76406044), ('dinah', 0.74523616), ('mabel', 0.7368725), ('am', 0.73625547), ('ll', 0.7217546), ('grow', 0.72057587), ('afraid', 0.7142035), ('no', 0.71362054), ('ve', 0.71293485)]\n",
      "[('sister', 0.5150813), ('cheated', 0.44930542), ('coming', 0.4430074), ('ring', 0.43746993), ('ringlets', 0.42397505), ('met', 0.42233273), ('spirited', 0.409663), ('fond', 0.40937528), ('fact', 0.3936352), ('speaking', 0.39005157)]\n",
      "[('glass', 0.6992064), ('it', 0.6643967), ('idea', 0.5870326), ('paused', 0.578886), ('before', 0.5513163), ('looking', 0.54275346), ('as', 0.53582346), ('hall', 0.5195004), ('lying', 0.51778597), ('thimble', 0.5136354)]\n",
      "[('of', 0.774033), ('with', 0.73736227), ('other', 0.71078604), ('whether', 0.6929305), ('by', 0.67822564), ('at', 0.6758539), ('among', 0.66466933), ('kid', 0.6583209), ('replied', 0.65685356), ('three', 0.64092696)]\n",
      "[('door', 0.57477826), ('name', 0.5455657), ('roof', 0.54235953), ('duchess', 0.5203039), ('of', 0.5172991), ('corner', 0.512416), ('comfits', 0.4894555), ('question', 0.48755035), ('immediate', 0.46214014), ('shedding', 0.44590405)]\n",
      "[('she', 0.69322), ('anxiously', 0.5524158), ('it', 0.54968804), ('idea', 0.53631896), ('surprised', 0.4644304), ('going', 0.4236126), ('deeply', 0.42211306), ('age', 0.41332337), ('shakespeare', 0.40152714), ('to', 0.3756474)]\n",
      "[('its', 0.86890227), ('get', 0.85816205), ('once', 0.85465384), ('very', 0.8468268), ('running', 0.8364142), ('come', 0.8348145), ('their', 0.83434033), ('william', 0.8300465), ('ma', 0.827633), ('changed', 0.8254293)]\n",
      "[('listen', 0.6930357), ('tried', 0.6879669), ('planning', 0.6619769), ('sorts', 0.6591181), ('turning', 0.6434463), ('jumped', 0.6341773), ('set', 0.6225483), ('pretend', 0.6091943), ('wink', 0.56622624), ('window', 0.54887724)]\n",
      "[('knew', 0.5800301), ('think', 0.47803926), ('learn', 0.42808428), ('lap', 0.42790452), ('shall', 0.41115525), ('exactly', 0.39279157), ('mabel', 0.3809869), ('went', 0.37547284), ('wish', 0.37498766), ('ought', 0.37484106)]\n",
      "[('pretend', 0.62566304), ('tried', 0.6102286), ('turning', 0.574089), ('planning', 0.5645047), ('listen', 0.5610255), ('sorts', 0.50010055), ('jumped', 0.49979073), ('dozing', 0.48710573), ('wink', 0.46238902), ('set', 0.45386952)]\n",
      "[('ready', 0.5587122), ('bathing', 0.5165816), ('severely', 0.467151), ('there', 0.45625997), ('it', 0.45406643), ('surprised', 0.45232335), ('went', 0.44879824), ('couldn', 0.44581386), ('printed', 0.44305977), ('just', 0.44251865)]\n",
      "[('their', 0.925178), ('people', 0.92396754), ('times', 0.9202509), ('doesn', 0.9179103), ('are', 0.9173402), ('tone', 0.91373247), ('among', 0.9105126), ('talking', 0.9103976), ('than', 0.9090151), ('those', 0.9076525)]\n",
      "[('talk', 0.63695645), ('there', 0.6130484), ('signify', 0.61280143), ('tail', 0.60877734), ('however', 0.6060166), ('ann', 0.5996129), ('more', 0.5934585), ('we', 0.59085196), ('fear', 0.5869524), ('quite', 0.58509666)]\n",
      "[('dreamy', 0.54374295), ('fact', 0.53295153), ('yet', 0.50276715), ('opened', 0.49286813), ('sorts', 0.48266128), ('planning', 0.47557348), ('seaside', 0.47276425), ('guessed', 0.44818735), ('pretend', 0.44507366), ('neck', 0.43120706)]\n",
      "[('puzzle', 0.5072255), ('carrier', 0.44503084), ('fan', 0.43528178), ('seaside', 0.4316672), ('door', 0.42313078), ('top', 0.4167695), ('theirs', 0.41289163), ('bank', 0.40218562), ('confused', 0.39455244), ('distance', 0.3874859)]\n"
     ]
    },
    {
     "name": "stdout",
     "output_type": "stream",
     "text": [
      "[('shook', 0.62245613), ('so', 0.5898092), ('there', 0.5736131), ('again', 0.5617761), ('rate', 0.53204125), ('brave', 0.52037454), ('late', 0.5195184), ('signify', 0.5192528), ('were', 0.51773304), ('here', 0.5136372)]\n",
      "0\n",
      "0\n",
      "0\n"
     ]
    }
   ],
   "source": [
    "res_cbow_50_1, res_cbow_50_2, res_cbow_50_3 = test_acc(cbow_model_50)\n",
    "print(res_cbow_50_1)\n",
    "print(res_cbow_50_2)\n",
    "print(res_cbow_50_3)"
   ]
  },
  {
   "cell_type": "code",
   "execution_count": 12,
   "metadata": {},
   "outputs": [
    {
     "name": "stdout",
     "output_type": "stream",
     "text": [
      "0\n",
      "0\n",
      "0\n"
     ]
    }
   ],
   "source": [
    "res_cbow_150_1, res_cbow_150_2, res_cbow_150_3 = test_acc(cbow_model_150)\n",
    "print(res_cbow_150_1)\n",
    "print(res_cbow_150_2)\n",
    "print(res_cbow_150_3)"
   ]
  },
  {
   "cell_type": "code",
   "execution_count": null,
   "metadata": {},
   "outputs": [],
   "source": [
    "res_cbow_300 = test_acc(cbow_model_300)"
   ]
  }
 ],
 "metadata": {
  "kernelspec": {
   "display_name": "Python 3",
   "language": "python",
   "name": "python3"
  },
  "language_info": {
   "codemirror_mode": {
    "name": "ipython",
    "version": 3
   },
   "file_extension": ".py",
   "mimetype": "text/x-python",
   "name": "python",
   "nbconvert_exporter": "python",
   "pygments_lexer": "ipython3",
   "version": "3.6.4"
  }
 },
 "nbformat": 4,
 "nbformat_minor": 2
}
